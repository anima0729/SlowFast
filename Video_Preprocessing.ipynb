{
 "cells": [
  {
   "cell_type": "code",
   "execution_count": 1,
   "metadata": {},
   "outputs": [],
   "source": [
    "from glob import glob\n",
    "import cv2\n",
    "import pandas as pd\n",
    "import json\n",
    "import numpy as np\n",
    "import os\n",
    "from tqdm import tqdm"
   ]
  },
  {
   "cell_type": "code",
   "execution_count": 2,
   "metadata": {},
   "outputs": [],
   "source": [
    "train_video = sorted(glob(\"/data/competition/Another/Busan/Competition_1/행위/행위/*/*.mp4\"))\n",
    "train_json = sorted(glob(\"/data/competition/Another/Busan/Competition_1/행위/행위/*/*.json\"))"
   ]
  },
  {
   "cell_type": "code",
   "execution_count": 3,
   "metadata": {},
   "outputs": [],
   "source": [
    "j = open(train_video[0].replace(\"mp4\", \"json\"))\n",
    "j = json.load(j)"
   ]
  },
  {
   "cell_type": "code",
   "execution_count": 4,
   "metadata": {},
   "outputs": [],
   "source": [
    "def Vid2Bbox(vid_list):\n",
    "    \n",
    "    for i in tqdm(vid_list):\n",
    "        \n",
    "        j = open(i.replace(\"mp4\", \"json\"))\n",
    "        j = json.load(j)\n",
    "        \n",
    "        # Video Info\n",
    "        fps = j[\"info\"][\"fps\"]\n",
    "        frame = j[\"info\"][\"frame\"]\n",
    "        height = j[\"info\"][\"height\"]\n",
    "        width = j[\"info\"][\"width\"]\n",
    "        cap = cv2.VideoCapture(i)\n",
    "        \n",
    "        event_num = 0\n",
    "        \n",
    "        for num, k in enumerate(j[\"events\"]):\n",
    "            # Make Folder\n",
    "            if not os.path.exists(i.replace(\".mp4\", f\"_{num}\")):\n",
    "                os.makedirs(i.replace(\".mp4\", f\"_{num}\"))\n",
    "            event_num = event_num + 1\n",
    "        n_f = int(j[\"annotations\"][0][\"cur_frame\"])\n",
    "        m = 0\n",
    "        for l in range(len(j[\"annotations\"])):\n",
    "            minx, miny = j[\"annotations\"][l][\"bbox\"][0]\n",
    "            minx = int(minx)\n",
    "            miny = int(miny)\n",
    "            maxx, maxy = j[\"annotations\"][l][\"bbox\"][1]\n",
    "            maxx = int(maxx)\n",
    "            maxy = int(maxy)\n",
    "            num_frame = j[\"annotations\"][l][\"cur_frame\"]\n",
    "            \n",
    "            if n_f != int(num_frame):\n",
    "                con_frame = int(n_f)\n",
    "                while(True):\n",
    "                    con_frame = con_frame + 1\n",
    "                    if len(glob(i.replace(\".mp4\", f\"_{m}/*\"))) > 65:\n",
    "                        break\n",
    "                    if not os.path.exists(i.replace(\".mp4\", f\"_{m}\")):\n",
    "                        break\n",
    "                    frame = np.zeros((256, 256,3))\n",
    "                    cv2.imwrite(i.replace(\".mp4\", f\"_{m}\") + '/' + str(con_frame).zfill(5) + '.png', frame)\n",
    "                m = m + 1\n",
    "                n_f = int(num_frame) + 1\n",
    "                cap = cv2.VideoCapture(i)\n",
    "            else:\n",
    "                n_f = n_f + 1\n",
    "\n",
    "            # Extract BoundingBox\n",
    "            cap.set(cv2.CAP_PROP_FRAME_COUNT, num_frame)\n",
    "            ret,frame = cap.read()\n",
    "            if ret is False:\n",
    "                break\n",
    "\n",
    "            frame = cv2.resize(frame[miny:maxy, minx:maxx], (256, 256))\n",
    "            cv2.imwrite(i.replace(\".mp4\", f\"_{m}\") + '/' + str(num_frame).zfill(5) + '.png', frame)\n",
    "                \n",
    "        con_frame = int(n_f)\n",
    "        while(True):\n",
    "            con_frame = con_frame + 1\n",
    "            if len(glob(i.replace(\".mp4\", f\"_{m}/*\"))) > 65:\n",
    "                break\n",
    "            if not os.path.exists(i.replace(\".mp4\", f\"_{m}\")):\n",
    "                break\n",
    "            frame = np.zeros((256, 256,3))\n",
    "            cv2.imwrite(i.replace(\".mp4\", f\"_{m}\") + '/' + str(con_frame).zfill(5) + '.png', frame)\n",
    "        \n",
    "        cap.release()"
   ]
  },
  {
   "cell_type": "code",
   "execution_count": 5,
   "metadata": {},
   "outputs": [
    {
     "name": "stderr",
     "output_type": "stream",
     "text": [
      "100%|██████████| 1458/1458 [36:26<00:00,  1.50s/it]\n"
     ]
    }
   ],
   "source": [
    "Vid2Bbox(train_video)"
   ]
  },
  {
   "cell_type": "code",
   "execution_count": null,
   "metadata": {},
   "outputs": [],
   "source": []
  }
 ],
 "metadata": {
  "kernelspec": {
   "display_name": "Python 3",
   "language": "python",
   "name": "python3"
  },
  "language_info": {
   "codemirror_mode": {
    "name": "ipython",
    "version": 3
   },
   "file_extension": ".py",
   "mimetype": "text/x-python",
   "name": "python",
   "nbconvert_exporter": "python",
   "pygments_lexer": "ipython3",
   "version": "3.7.0"
  }
 },
 "nbformat": 4,
 "nbformat_minor": 4
}

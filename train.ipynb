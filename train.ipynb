{
 "cells": [
  {
   "cell_type": "markdown",
   "metadata": {},
   "source": [
    "# Import"
   ]
  },
  {
   "cell_type": "code",
   "execution_count": 1,
   "metadata": {},
   "outputs": [],
   "source": [
    "import pandas as pd\n",
    "import numpy as np\n",
    "from glob import glob\n",
    "from PIL import Image\n",
    "import cv2\n",
    "from tqdm.auto import tqdm\n",
    "import os\n",
    "import json\n",
    "import gc\n",
    "import warnings\n",
    "import random\n",
    "import matplotlib.pyplot as plt\n",
    "from sklearn.metrics import accuracy_score\n",
    "\n",
    "import albumentations as A\n",
    "from albumentations.pytorch.transforms import ToTensorV2\n",
    "\n",
    "import torch\n",
    "import torch.nn as nn\n",
    "from torch.utils.data import Dataset, DataLoader\n",
    "\n",
    "from transformers.optimization import AdamW, get_cosine_schedule_with_warmup\n",
    "from pytorchvideo.models.hub.slowfast import slowfast_16x8_r101_50_50\n",
    "\n",
    "warnings.filterwarnings(\"ignore\")\n",
    "warnings.simplefilter('ignore')"
   ]
  },
  {
   "cell_type": "markdown",
   "metadata": {},
   "source": [
    "# Seed"
   ]
  },
  {
   "cell_type": "code",
   "execution_count": 2,
   "metadata": {},
   "outputs": [],
   "source": [
    "def seed_everything(seed: int = 42):\n",
    "    random.seed(seed)\n",
    "    np.random.seed(seed)\n",
    "    os.environ[\"PYTHONHASHSEED\"] = str(seed)\n",
    "    torch.manual_seed(seed)\n",
    "    torch.cuda.manual_seed(seed)  \n",
    "    torch.backends.cudnn.deterministic = True  \n",
    "    torch.backends.cudnn.benchmark = False \n",
    "\n",
    "seed_everything(42)"
   ]
  },
  {
   "cell_type": "markdown",
   "metadata": {},
   "source": [
    "# Config"
   ]
  },
  {
   "cell_type": "code",
   "execution_count": 3,
   "metadata": {},
   "outputs": [],
   "source": [
    "device = torch.device(\"cuda:0\")\n",
    "\n",
    "flags={}\n",
    "flags['batch_size'] = 2\n",
    "flags['num_worker'] = 0\n",
    "flags['learning_rate'] = 5e-5\n",
    "flags['epoch'] = 100\n",
    "flags['size'] = 256\n",
    "flags['mean'] = [0.45, 0.45, 0.45]\n",
    "flags['std'] = [0.225, 0.225, 0.225]\n",
    "flags['num_frames'] = 64\n",
    "flags['sampling_rate'] = 1\n",
    "flags['slowfast_alpha'] = 4\n",
    "flags['save_folder'] = './model_weights'\n",
    "flags['warmup_ratio'] = 0.1"
   ]
  },
  {
   "cell_type": "markdown",
   "metadata": {},
   "source": [
    "# Dataset"
   ]
  },
  {
   "cell_type": "code",
   "execution_count": 4,
   "metadata": {},
   "outputs": [],
   "source": [
    "class PackPathway(torch.nn.Module):\n",
    "    def __init__(self):\n",
    "        super().__init__()\n",
    "        \n",
    "    def forward(self, frames: torch.Tensor):\n",
    "        fast_pathway = frames\n",
    "        slow_pathway = torch.index_select(\n",
    "            frames,\n",
    "            1,\n",
    "            torch.linspace(\n",
    "                0, frames.shape[1] - 1, frames.shape[1] // flags['slowfast_alpha']\n",
    "            ).long(),\n",
    "        )\n",
    "        frame_list = [slow_pathway, fast_pathway]\n",
    "        return frame_list"
   ]
  },
  {
   "cell_type": "code",
   "execution_count": 5,
   "metadata": {},
   "outputs": [
    {
     "name": "stdout",
     "output_type": "stream",
     "text": [
      "빈 폴더 제거 전 : 5088\n",
      "빈 폴더 제거 후 : 5088\n",
      "train개수: 4070  |  val개수: 1018\n"
     ]
    }
   ],
   "source": [
    "paths = sorted(glob('/data/competition/Another/Busan/Competition_1/행위/행위/*/*'))\n",
    "\n",
    "folder_path = []\n",
    "for i in paths:\n",
    "    if (i[-4:] not in \"json\") and (i[-3:] not in \"mp4\"):\n",
    "        folder_path.append(i)\n",
    "\n",
    "for j in folder_path:\n",
    "    try:\n",
    "        os.rmdir(j)\n",
    "    except:\n",
    "        continue\n",
    "\n",
    "print(\"빈 폴더 제거 전 :\", len(folder_path))\n",
    "\n",
    "paths = sorted(glob('/data/competition/Another/Busan/Competition_1/행위/행위/*/*'))\n",
    "\n",
    "folder_path = []\n",
    "for i in paths:\n",
    "    if (i[-4:] not in \"json\") and (i[-3:] not in \"mp4\"):\n",
    "        folder_path.append(i)\n",
    "        \n",
    "print(\"빈 폴더 제거 후 :\", len(folder_path))\n",
    "\n",
    "df_train = pd.DataFrame()\n",
    "df_val = pd.DataFrame()\n",
    "\n",
    "\n",
    "train_paths = []\n",
    "val_paths = []\n",
    "for num, i in enumerate(range(len(folder_path))):\n",
    "    if num % 5 == 0:\n",
    "        val_paths.append(folder_path[i])\n",
    "    else:\n",
    "        train_paths.append(folder_path[i])\n",
    "        \n",
    "print('train개수:', len(train_paths),' | ',  'val개수:', len(val_paths))\n",
    "df_train['file_path'] = train_paths\n",
    "df_val['file_path'] = val_paths"
   ]
  },
  {
   "cell_type": "code",
   "execution_count": 6,
   "metadata": {},
   "outputs": [],
   "source": [
    "class CustomDataset(torch.utils.data.Dataset):\n",
    "  def __init__(self, \n",
    "               df, \n",
    "               mode='train', \n",
    "               size=flags['size'], \n",
    "               num_frames=flags['num_frames'], \n",
    "               sampling_rate=flags['sampling_rate']):\n",
    "    self.df=df\n",
    "    self.mode=mode\n",
    "    self.size=size\n",
    "    self.num_frames=num_frames\n",
    "    self.sampling_rate=sampling_rate\n",
    "    self.slowfast_preproc=PackPathway()\n",
    "\n",
    "  def __len__(self):\n",
    "    return len(self.df)\n",
    "\n",
    "  def __getitem__(self, idx):\n",
    "    file_path=self.df['file_path'].iloc[idx]\n",
    "    img_path=sorted(glob(file_path + '/*.png'))\n",
    "    if self.mode=='train':\n",
    "        start=random.choice(np.arange(len(img_path)-self.sampling_rate*self.num_frames-1))\n",
    "    else:\n",
    "        start=0\n",
    "    imgs=torch.zeros(self.num_frames, 3, self.size, self.size)\n",
    "    for i, x in enumerate(range(start, start+self.sampling_rate*self.num_frames, self.sampling_rate)):\n",
    "        img = np.array(Image.open(img_path[x]))\n",
    "        imgs[i]=self.transform_func()(image=img)['image']\n",
    "    \n",
    "    imgs = self._pad(imgs)\n",
    "    frames=self.slowfast_preproc(imgs.permute(1, 0, 2, 3))\n",
    "    label = 0\n",
    "    if self.mode=='train':\n",
    "        if \"smoking\" in file_path:\n",
    "            label = 0\n",
    "        elif \"fishing\" in file_path:\n",
    "            label = 1\n",
    "        elif \"trash_dump\" in file_path:\n",
    "            label = 2\n",
    "        elif \"wall_over\" in file_path:\n",
    "            label = 3\n",
    "        elif \"damage_to_facilities\" in file_path:\n",
    "            label = 4\n",
    "        elif \"banner_action\" in file_path:\n",
    "            label = 5\n",
    "        elif \"fliers_action\" in file_path:\n",
    "            label = 5\n",
    "        elif \"tent_setup\" in file_path:\n",
    "            label = 6\n",
    "    else:\n",
    "        label=0\n",
    "    return frames, label\n",
    "\n",
    "  def transform_func(self):\n",
    "    return A.Compose([\n",
    "                      A.Resize(flags['size'],flags['size']), \n",
    "                      A.Normalize(mean=flags['mean'], std=flags['std']),\n",
    "                      ToTensorV2(p=1.0)\n",
    "                      ])\n",
    "    \n",
    "  def _pad(self, imgs):\n",
    "      if imgs.shape[0] < self.num_frames:\n",
    "          T, C, H, W = imgs.shape\n",
    "          pad = torch.zeros(self.num_frames-T, C, H, W)\n",
    "          imgs = torch.cat([imgs, pad], dim=0)\n",
    "      else:\n",
    "          imgs = imgs[:self.num_frames]\n",
    "\n",
    "      return imgs"
   ]
  },
  {
   "cell_type": "code",
   "execution_count": 7,
   "metadata": {},
   "outputs": [],
   "source": [
    "train_dataset = CustomDataset(df=df_train)\n",
    "val_dataset = CustomDataset(df=df_val)\n",
    "\n",
    "train_dataloader = DataLoader(train_dataset, batch_size=flags['batch_size'], num_workers=flags['num_worker'], shuffle=True)\n",
    "val_dataloader = DataLoader(val_dataset, batch_size=flags['batch_size'], num_workers=flags['num_worker'], shuffle=False)"
   ]
  },
  {
   "cell_type": "markdown",
   "metadata": {},
   "source": [
    "# Model"
   ]
  },
  {
   "cell_type": "code",
   "execution_count": 8,
   "metadata": {},
   "outputs": [],
   "source": [
    "class CustomModel(nn.Module):\n",
    "  def __init__(self, device):\n",
    "    super().__init__()\n",
    "    self.model=slowfast_16x8_r101_50_50(pretrained=True)\n",
    "    self.model.blocks[6].proj = nn.Linear(self.model.blocks[6].proj.in_features, 7, bias=True)\n",
    "    self.to(device)\n",
    "        \n",
    "  def forward(self, x):  \n",
    "    x = self.model(x)\n",
    "    return x"
   ]
  },
  {
   "cell_type": "code",
   "execution_count": 9,
   "metadata": {},
   "outputs": [],
   "source": [
    "class LabelSmoothingLoss(nn.Module):\n",
    "    def __init__(self, classes, smoothing=0.0, dim=-1):\n",
    "        super(LabelSmoothingLoss, self).__init__()\n",
    "        self.confidence = 1.0 - smoothing\n",
    "        self.smoothing = smoothing\n",
    "        self.cls = classes\n",
    "        self.dim = dim\n",
    "\n",
    "    def forward(self, pred, target):\n",
    "        pred = pred.log_softmax(dim=self.dim)\n",
    "        with torch.no_grad():\n",
    "            true_dist = torch.zeros_like(pred)\n",
    "            true_dist.fill_(self.smoothing / (self.cls - 1))\n",
    "            true_dist.scatter_(1, target.data.unsqueeze(1), self.confidence)\n",
    "        return torch.mean(torch.sum(-true_dist * pred, dim=self.dim))"
   ]
  },
  {
   "cell_type": "code",
   "execution_count": 10,
   "metadata": {},
   "outputs": [],
   "source": [
    "custom_model=CustomModel(device=device)"
   ]
  },
  {
   "cell_type": "code",
   "execution_count": 11,
   "metadata": {
    "scrolled": false
   },
   "outputs": [],
   "source": [
    "sample_batch=next(iter(train_dataloader))\n",
    "with torch.no_grad():\n",
    "    data = [x.to(device) for x in sample_batch[0]]\n",
    "    out=custom_model(data)"
   ]
  },
  {
   "cell_type": "code",
   "execution_count": 12,
   "metadata": {},
   "outputs": [
    {
     "data": {
      "text/plain": [
       "tensor([6, 6])"
      ]
     },
     "execution_count": 12,
     "metadata": {},
     "output_type": "execute_result"
    }
   ],
   "source": [
    "sample_batch[1]"
   ]
  },
  {
   "cell_type": "code",
   "execution_count": 13,
   "metadata": {},
   "outputs": [
    {
     "data": {
      "text/plain": [
       "tensor([[ 0.0283, -0.1038, -0.0776, -0.0389, -0.0494, -0.1633, -0.0170],\n",
       "        [-0.0943,  0.0259, -0.0614, -0.1077, -0.0682, -0.4256, -0.0489]],\n",
       "       device='cuda:0')"
      ]
     },
     "execution_count": 13,
     "metadata": {},
     "output_type": "execute_result"
    }
   ],
   "source": [
    "out"
   ]
  },
  {
   "cell_type": "markdown",
   "metadata": {},
   "source": [
    "# Train"
   ]
  },
  {
   "cell_type": "code",
   "execution_count": 14,
   "metadata": {},
   "outputs": [],
   "source": [
    "class CustomTrainer:\n",
    "  def __init__(self, model, folder):\n",
    "    self.model=model\n",
    "    \n",
    "    self.save_dir = f'./{folder}'\n",
    "    if not os.path.exists(self.save_dir):\n",
    "      os.makedirs(self.save_dir)\n",
    "\n",
    "    param_optimizer = list(self.model.named_parameters())\n",
    "    no_decay = ['bias', 'LayerNorm.bias', 'LayerNorm.weight']\n",
    "    optimizer_grouped_parameters = [\n",
    "        {'params': [p for n, p in param_optimizer if not any(\n",
    "            nd in n for nd in no_decay)], 'weight_decay': 0.01},\n",
    "        {'params': [p for n, p in param_optimizer if any(\n",
    "            nd in n for nd in no_decay)], 'weight_decay': 0.0}\n",
    "    ]\n",
    "\n",
    "    self.optimizer = AdamW(optimizer_grouped_parameters, lr=flags['learning_rate'], correct_bias=False)#torch.optim.AdamW(optimizer_grouped_parameters, lr=flags['learning_rate'])\n",
    "\n",
    "    total_steps = int(len(train_dataset)*flags['epoch']/(4*(flags['batch_size'])))\n",
    "    warmup_steps = int(total_steps * flags['warmup_ratio'])\n",
    "    print('total_steps: ', total_steps)\n",
    "    print('warmup_steps: ', warmup_steps)\n",
    "    self.scheduler = get_cosine_schedule_with_warmup(self.optimizer, num_warmup_steps=warmup_steps, num_training_steps=total_steps)\n",
    "    \n",
    "    #weights = torch.FloatTensor([0.16, 0.16, 0.20, 0.16, 0.16, 0.16]).to(device)\n",
    "    self.loss_fn = nn.CrossEntropyLoss()#weight=weights)\n",
    "\n",
    "    self.best_acc = 0.0\n",
    "\n",
    "  def run(self, train_loader, val_loader):\n",
    "    print(flags)\n",
    "    for epoch in range(9, flags['epoch']):\n",
    "      gc.collect()\n",
    "      print('learning_rate: ', self.optimizer.param_groups[0]['lr'])\n",
    "      \n",
    "      print(f'----- train, epoch{epoch+1} -----')\n",
    "      train_loss = self.train_function(train_loader)\n",
    "      print(f'train_loss: {train_loss:.9f}')\n",
    "\n",
    "      print('----------------------------------')\n",
    "\n",
    "      print(f'----- val, epoch{epoch+1} -----')\n",
    "      with torch.no_grad():\n",
    "        val_loss, val_acc = self.val_function(val_loader)\n",
    "      print(f'val_loss: {val_loss:.9f}, val_acc: {val_acc:.9f}')\n",
    "\n",
    "      torch.save(self.model.state_dict(),self.save_dir+f\"/best-acc_{epoch}.bin\")\n",
    "      self.best_acc=val_acc\n",
    "      print(f'model is saved when epoch is : {epoch+1}')\n",
    "\n",
    "      print('----------------------------------')\n",
    "      print(' ')\n",
    "      if epoch == 20:break\n",
    "\n",
    "      \n",
    "  def train_function(self, train_loader):\n",
    "    self.model.train()\n",
    "\n",
    "    total_loss = 0.0\n",
    "    for bi, data in tqdm(enumerate(train_loader)):\n",
    "      frames, label = data\n",
    "      frames = [x.to(device) for x in frames]\n",
    "      label = label.to(device)\n",
    "\n",
    "      self.optimizer.zero_grad()\n",
    "      out = self.model(frames)\n",
    "      loss = self.loss_fn(out.reshape(-1, 7), label.reshape(-1))\n",
    "      loss.backward()\n",
    "      self.optimizer.step()\n",
    "      \n",
    "      self.scheduler.step()\n",
    "      total_loss+=loss.detach().cpu()\n",
    "\n",
    "    return total_loss/len(train_loader)\n",
    "\n",
    "  def val_function(self, val_loader):\n",
    "    self.model.eval()\n",
    "\n",
    "    total_loss = 0.0\n",
    "    preds, targets = [], []\n",
    "    for bi, data in tqdm(enumerate(val_loader)):\n",
    "      frames, label = data\n",
    "      frames = [x.to(device) for x in frames]\n",
    "      label = label.to(device)\n",
    "\n",
    "      out = self.model(frames)\n",
    "      loss = self.loss_fn(out.reshape(-1, 7), label.reshape(-1))\n",
    "\n",
    "      total_loss+=loss.detach().cpu()\n",
    "\n",
    "      pred = out.argmax(1).detach().cpu().tolist()\n",
    "      target = label.reshape(-1).detach().cpu().tolist()\n",
    "\n",
    "      preds.extend(pred)\n",
    "      targets.extend(target)\n",
    "    \n",
    "    acc = accuracy_score(targets, preds)\n",
    "    return total_loss/len(val_loader), acc"
   ]
  },
  {
   "cell_type": "code",
   "execution_count": 15,
   "metadata": {
    "scrolled": false
   },
   "outputs": [
    {
     "name": "stdout",
     "output_type": "stream",
     "text": [
      "total_steps:  50875\n",
      "warmup_steps:  5087\n",
      "{'batch_size': 2, 'num_worker': 0, 'learning_rate': 5e-05, 'epoch': 100, 'size': 256, 'mean': [0.45, 0.45, 0.45], 'std': [0.225, 0.225, 0.225], 'num_frames': 64, 'sampling_rate': 1, 'slowfast_alpha': 4, 'save_folder': './model_weights', 'warmup_ratio': 0.1}\n",
      "learning_rate:  0.0\n",
      "----- train, epoch10 -----\n"
     ]
    },
    {
     "data": {
      "application/vnd.jupyter.widget-view+json": {
       "model_id": "24698224aadc42919b1e79717dd147fe",
       "version_major": 2,
       "version_minor": 0
      },
      "text/plain": [
       "HBox(children=(FloatProgress(value=1.0, bar_style='info', max=1.0), HTML(value='')))"
      ]
     },
     "metadata": {},
     "output_type": "display_data"
    },
    {
     "name": "stdout",
     "output_type": "stream",
     "text": [
      "\n",
      "train_loss: 0.009718696\n",
      "----------------------------------\n",
      "----- val, epoch10 -----\n"
     ]
    },
    {
     "data": {
      "application/vnd.jupyter.widget-view+json": {
       "model_id": "401bc9ef5ab64c2694d198e450aa7b5d",
       "version_major": 2,
       "version_minor": 0
      },
      "text/plain": [
       "HBox(children=(FloatProgress(value=1.0, bar_style='info', max=1.0), HTML(value='')))"
      ]
     },
     "metadata": {},
     "output_type": "display_data"
    },
    {
     "name": "stdout",
     "output_type": "stream",
     "text": [
      "\n",
      "val_loss: 0.040678281, val_acc: 0.990176817\n",
      "model is saved when epoch is : 10\n",
      "----------------------------------\n",
      " \n",
      "learning_rate:  2.0001965795164146e-05\n",
      "----- train, epoch11 -----\n"
     ]
    },
    {
     "data": {
      "application/vnd.jupyter.widget-view+json": {
       "model_id": "5ea3413db37b49ffa127724d043559a1",
       "version_major": 2,
       "version_minor": 0
      },
      "text/plain": [
       "HBox(children=(FloatProgress(value=1.0, bar_style='info', max=1.0), HTML(value='')))"
      ]
     },
     "metadata": {},
     "output_type": "display_data"
    },
    {
     "name": "stdout",
     "output_type": "stream",
     "text": [
      "\n",
      "train_loss: 0.028430451\n",
      "----------------------------------\n",
      "----- val, epoch11 -----\n"
     ]
    },
    {
     "data": {
      "application/vnd.jupyter.widget-view+json": {
       "model_id": "53d764d4d3c744af9b716f34ec588d84",
       "version_major": 2,
       "version_minor": 0
      },
      "text/plain": [
       "HBox(children=(FloatProgress(value=1.0, bar_style='info', max=1.0), HTML(value='')))"
      ]
     },
     "metadata": {},
     "output_type": "display_data"
    },
    {
     "name": "stdout",
     "output_type": "stream",
     "text": [
      "\n",
      "val_loss: 0.209480152, val_acc: 0.974459725\n",
      "model is saved when epoch is : 11\n",
      "----------------------------------\n",
      " \n",
      "learning_rate:  4.000393159032829e-05\n",
      "----- train, epoch12 -----\n"
     ]
    },
    {
     "data": {
      "application/vnd.jupyter.widget-view+json": {
       "model_id": "5760260c08834fb9977f73f46d81be28",
       "version_major": 2,
       "version_minor": 0
      },
      "text/plain": [
       "HBox(children=(FloatProgress(value=1.0, bar_style='info', max=1.0), HTML(value='')))"
      ]
     },
     "metadata": {},
     "output_type": "display_data"
    },
    {
     "name": "stdout",
     "output_type": "stream",
     "text": [
      "\n",
      "train_loss: 0.047027599\n",
      "----------------------------------\n",
      "----- val, epoch12 -----\n"
     ]
    },
    {
     "data": {
      "application/vnd.jupyter.widget-view+json": {
       "model_id": "d60fc1e2b68d46bbbe16a01cdedc03c9",
       "version_major": 2,
       "version_minor": 0
      },
      "text/plain": [
       "HBox(children=(FloatProgress(value=1.0, bar_style='info', max=1.0), HTML(value='')))"
      ]
     },
     "metadata": {},
     "output_type": "display_data"
    },
    {
     "name": "stdout",
     "output_type": "stream",
     "text": [
      "\n",
      "val_loss: 0.109734602, val_acc: 0.982318271\n",
      "model is saved when epoch is : 12\n",
      "----------------------------------\n",
      " \n",
      "learning_rate:  4.9939042745559754e-05\n",
      "----- train, epoch13 -----\n"
     ]
    },
    {
     "data": {
      "application/vnd.jupyter.widget-view+json": {
       "model_id": "0cc16df657eb4248a93f578768c5e022",
       "version_major": 2,
       "version_minor": 0
      },
      "text/plain": [
       "HBox(children=(FloatProgress(value=1.0, bar_style='info', max=1.0), HTML(value='')))"
      ]
     },
     "metadata": {},
     "output_type": "display_data"
    },
    {
     "name": "stdout",
     "output_type": "stream",
     "text": [
      "\n",
      "train_loss: 0.032316361\n",
      "----------------------------------\n",
      "----- val, epoch13 -----\n"
     ]
    },
    {
     "data": {
      "application/vnd.jupyter.widget-view+json": {
       "model_id": "585cd238053c45e58ed93f04ba208d1f",
       "version_major": 2,
       "version_minor": 0
      },
      "text/plain": [
       "HBox(children=(FloatProgress(value=1.0, bar_style='info', max=1.0), HTML(value='')))"
      ]
     },
     "metadata": {},
     "output_type": "display_data"
    },
    {
     "name": "stdout",
     "output_type": "stream",
     "text": [
      "\n",
      "val_loss: 0.103417411, val_acc: 0.981335953\n",
      "model is saved when epoch is : 13\n",
      "----------------------------------\n",
      " \n",
      "learning_rate:  4.9453523578766574e-05\n",
      "----- train, epoch14 -----\n"
     ]
    },
    {
     "data": {
      "application/vnd.jupyter.widget-view+json": {
       "model_id": "84698e993b534689b5d7ea2f9290f73f",
       "version_major": 2,
       "version_minor": 0
      },
      "text/plain": [
       "HBox(children=(FloatProgress(value=1.0, bar_style='info', max=1.0), HTML(value='')))"
      ]
     },
     "metadata": {},
     "output_type": "display_data"
    },
    {
     "name": "stdout",
     "output_type": "stream",
     "text": [
      "\n",
      "train_loss: 0.037446015\n",
      "----------------------------------\n",
      "----- val, epoch14 -----\n"
     ]
    },
    {
     "data": {
      "application/vnd.jupyter.widget-view+json": {
       "model_id": "28c74395ca9f470d98b82876ed4e04ce",
       "version_major": 2,
       "version_minor": 0
      },
      "text/plain": [
       "HBox(children=(FloatProgress(value=1.0, bar_style='info', max=1.0), HTML(value='')))"
      ]
     },
     "metadata": {},
     "output_type": "display_data"
    },
    {
     "name": "stdout",
     "output_type": "stream",
     "text": [
      "\n",
      "val_loss: 1.160254717, val_acc: 0.910609037\n",
      "model is saved when epoch is : 14\n",
      "----------------------------------\n",
      " \n",
      "learning_rate:  4.849205476889769e-05\n",
      "----- train, epoch15 -----\n"
     ]
    },
    {
     "data": {
      "application/vnd.jupyter.widget-view+json": {
       "model_id": "3a24649729ea427a8fe37c9c8b7eb7df",
       "version_major": 2,
       "version_minor": 0
      },
      "text/plain": [
       "HBox(children=(FloatProgress(value=1.0, bar_style='info', max=1.0), HTML(value='')))"
      ]
     },
     "metadata": {},
     "output_type": "display_data"
    },
    {
     "name": "stdout",
     "output_type": "stream",
     "text": [
      "\n",
      "train_loss: 0.029221652\n",
      "----------------------------------\n",
      "----- val, epoch15 -----\n"
     ]
    },
    {
     "data": {
      "application/vnd.jupyter.widget-view+json": {
       "model_id": "82dc0a3c8efc4755890dd4493a4c6491",
       "version_major": 2,
       "version_minor": 0
      },
      "text/plain": [
       "HBox(children=(FloatProgress(value=1.0, bar_style='info', max=1.0), HTML(value='')))"
      ]
     },
     "metadata": {},
     "output_type": "display_data"
    },
    {
     "name": "stdout",
     "output_type": "stream",
     "text": [
      "\n",
      "val_loss: 0.500196576, val_acc: 0.969548134\n",
      "model is saved when epoch is : 15\n",
      "----------------------------------\n",
      " \n",
      "learning_rate:  4.707334980464162e-05\n",
      "----- train, epoch16 -----\n"
     ]
    },
    {
     "data": {
      "application/vnd.jupyter.widget-view+json": {
       "model_id": "418b37162b1744bb9c6b7ace9070463b",
       "version_major": 2,
       "version_minor": 0
      },
      "text/plain": [
       "HBox(children=(FloatProgress(value=1.0, bar_style='info', max=1.0), HTML(value='')))"
      ]
     },
     "metadata": {},
     "output_type": "display_data"
    },
    {
     "name": "stdout",
     "output_type": "stream",
     "text": [
      "\n",
      "train_loss: 0.032662112\n",
      "----------------------------------\n",
      "----- val, epoch16 -----\n"
     ]
    },
    {
     "data": {
      "application/vnd.jupyter.widget-view+json": {
       "model_id": "875735536e184a96a818704a1708e2ca",
       "version_major": 2,
       "version_minor": 0
      },
      "text/plain": [
       "HBox(children=(FloatProgress(value=1.0, bar_style='info', max=1.0), HTML(value='')))"
      ]
     },
     "metadata": {},
     "output_type": "display_data"
    },
    {
     "name": "stdout",
     "output_type": "stream",
     "text": [
      "\n",
      "val_loss: 0.269122422, val_acc: 0.973477407\n",
      "model is saved when epoch is : 16\n",
      "----------------------------------\n",
      " \n",
      "learning_rate:  4.522502156228559e-05\n",
      "----- train, epoch17 -----\n"
     ]
    },
    {
     "data": {
      "application/vnd.jupyter.widget-view+json": {
       "model_id": "b2743a146f8747de87ed372397d53c88",
       "version_major": 2,
       "version_minor": 0
      },
      "text/plain": [
       "HBox(children=(FloatProgress(value=1.0, bar_style='info', max=1.0), HTML(value='')))"
      ]
     },
     "metadata": {},
     "output_type": "display_data"
    },
    {
     "name": "stdout",
     "output_type": "stream",
     "text": [
      "\n",
      "train_loss: 0.017008852\n",
      "----------------------------------\n",
      "----- val, epoch17 -----\n"
     ]
    },
    {
     "data": {
      "application/vnd.jupyter.widget-view+json": {
       "model_id": "73140280e06f40de88a113c9a1fea08c",
       "version_major": 2,
       "version_minor": 0
      },
      "text/plain": [
       "HBox(children=(FloatProgress(value=1.0, bar_style='info', max=1.0), HTML(value='')))"
      ]
     },
     "metadata": {},
     "output_type": "display_data"
    },
    {
     "name": "stdout",
     "output_type": "stream",
     "text": [
      "\n",
      "val_loss: 0.206612572, val_acc: 0.980353635\n",
      "model is saved when epoch is : 17\n",
      "----------------------------------\n",
      " \n",
      "learning_rate:  4.2983044864206525e-05\n",
      "----- train, epoch18 -----\n"
     ]
    },
    {
     "data": {
      "application/vnd.jupyter.widget-view+json": {
       "model_id": "86b68bd6d9964d8e8134a2cf518a3976",
       "version_major": 2,
       "version_minor": 0
      },
      "text/plain": [
       "HBox(children=(FloatProgress(value=1.0, bar_style='info', max=1.0), HTML(value='')))"
      ]
     },
     "metadata": {},
     "output_type": "display_data"
    },
    {
     "name": "stdout",
     "output_type": "stream",
     "text": [
      "\n",
      "train_loss: 0.026373584\n",
      "----------------------------------\n",
      "----- val, epoch18 -----\n"
     ]
    },
    {
     "data": {
      "application/vnd.jupyter.widget-view+json": {
       "model_id": "222b61abd04a403b903005397eaa3a54",
       "version_major": 2,
       "version_minor": 0
      },
      "text/plain": [
       "HBox(children=(FloatProgress(value=1.0, bar_style='info', max=1.0), HTML(value='')))"
      ]
     },
     "metadata": {},
     "output_type": "display_data"
    },
    {
     "name": "stdout",
     "output_type": "stream",
     "text": [
      "\n",
      "val_loss: 0.085658558, val_acc: 0.987229862\n",
      "model is saved when epoch is : 18\n",
      "----------------------------------\n",
      " \n",
      "learning_rate:  4.0391056285141715e-05\n",
      "----- train, epoch19 -----\n"
     ]
    },
    {
     "data": {
      "application/vnd.jupyter.widget-view+json": {
       "model_id": "2b2f943ade3c4c8d878a33eb3bbb2d89",
       "version_major": 2,
       "version_minor": 0
      },
      "text/plain": [
       "HBox(children=(FloatProgress(value=1.0, bar_style='info', max=1.0), HTML(value='')))"
      ]
     },
     "metadata": {},
     "output_type": "display_data"
    },
    {
     "name": "stdout",
     "output_type": "stream",
     "text": [
      "\n",
      "train_loss: 0.015175438\n",
      "----------------------------------\n",
      "----- val, epoch19 -----\n"
     ]
    },
    {
     "data": {
      "application/vnd.jupyter.widget-view+json": {
       "model_id": "4ba7cc2ad758482aa8449c9542100fd1",
       "version_major": 2,
       "version_minor": 0
      },
      "text/plain": [
       "HBox(children=(FloatProgress(value=1.0, bar_style='info', max=1.0), HTML(value='')))"
      ]
     },
     "metadata": {},
     "output_type": "display_data"
    },
    {
     "name": "stdout",
     "output_type": "stream",
     "text": [
      "\n",
      "val_loss: 0.145602167, val_acc: 0.982318271\n",
      "model is saved when epoch is : 19\n",
      "----------------------------------\n",
      " \n",
      "learning_rate:  3.749950483441648e-05\n",
      "----- train, epoch20 -----\n"
     ]
    },
    {
     "data": {
      "application/vnd.jupyter.widget-view+json": {
       "model_id": "ce47104dd23b4fc2bca72d2991ec566b",
       "version_major": 2,
       "version_minor": 0
      },
      "text/plain": [
       "HBox(children=(FloatProgress(value=1.0, bar_style='info', max=1.0), HTML(value='')))"
      ]
     },
     "metadata": {},
     "output_type": "display_data"
    },
    {
     "name": "stdout",
     "output_type": "stream",
     "text": [
      "\n",
      "train_loss: 0.016216381\n",
      "----------------------------------\n",
      "----- val, epoch20 -----\n"
     ]
    },
    {
     "data": {
      "application/vnd.jupyter.widget-view+json": {
       "model_id": "bd332068231a495bb12c38648c140ff8",
       "version_major": 2,
       "version_minor": 0
      },
      "text/plain": [
       "HBox(children=(FloatProgress(value=1.0, bar_style='info', max=1.0), HTML(value='')))"
      ]
     },
     "metadata": {},
     "output_type": "display_data"
    },
    {
     "name": "stdout",
     "output_type": "stream",
     "text": [
      "\n",
      "val_loss: 0.349448711, val_acc: 0.952848723\n",
      "model is saved when epoch is : 20\n",
      "----------------------------------\n",
      " \n",
      "learning_rate:  3.4364670044772784e-05\n",
      "----- train, epoch21 -----\n"
     ]
    },
    {
     "data": {
      "application/vnd.jupyter.widget-view+json": {
       "model_id": "86d2d2b49a9240c0a6cc683611bb55c0",
       "version_major": 2,
       "version_minor": 0
      },
      "text/plain": [
       "HBox(children=(FloatProgress(value=1.0, bar_style='info', max=1.0), HTML(value='')))"
      ]
     },
     "metadata": {},
     "output_type": "display_data"
    },
    {
     "name": "stdout",
     "output_type": "stream",
     "text": [
      "\n",
      "train_loss: 0.006189279\n",
      "----------------------------------\n",
      "----- val, epoch21 -----\n"
     ]
    },
    {
     "data": {
      "application/vnd.jupyter.widget-view+json": {
       "model_id": "6fc8548e1cb343308ea4295f2f7c5159",
       "version_major": 2,
       "version_minor": 0
      },
      "text/plain": [
       "HBox(children=(FloatProgress(value=1.0, bar_style='info', max=1.0), HTML(value='')))"
      ]
     },
     "metadata": {},
     "output_type": "display_data"
    },
    {
     "name": "stdout",
     "output_type": "stream",
     "text": [
      "\n",
      "val_loss: 0.196901426, val_acc: 0.966601179\n",
      "model is saved when epoch is : 21\n",
      "----------------------------------\n",
      " \n"
     ]
    }
   ],
   "source": [
    "# ensemble1\n",
    "seed_everything(42)\n",
    "custom_model=CustomModel(device=device)\n",
    "checkpoint = torch.load('model1_weight/best-acc_8.bin', map_location=device)\n",
    "custom_model.load_state_dict(checkpoint)\n",
    "\n",
    "train_dataloader = DataLoader(train_dataset, batch_size=flags['batch_size'], num_workers=flags['num_worker'], shuffle=True)\n",
    "val_dataloader = DataLoader(val_dataset, batch_size=flags['batch_size'], num_workers=flags['num_worker'], shuffle=False)\n",
    "\n",
    "custom_trainer = CustomTrainer(model=custom_model, folder='model1_weight')\n",
    "custom_trainer.run(train_dataloader, val_dataloader)"
   ]
  },
  {
   "cell_type": "code",
   "execution_count": null,
   "metadata": {},
   "outputs": [],
   "source": []
  },
  {
   "cell_type": "code",
   "execution_count": null,
   "metadata": {},
   "outputs": [],
   "source": []
  },
  {
   "cell_type": "code",
   "execution_count": null,
   "metadata": {},
   "outputs": [],
   "source": []
  },
  {
   "cell_type": "code",
   "execution_count": null,
   "metadata": {},
   "outputs": [],
   "source": []
  },
  {
   "cell_type": "code",
   "execution_count": null,
   "metadata": {},
   "outputs": [],
   "source": []
  },
  {
   "cell_type": "code",
   "execution_count": null,
   "metadata": {},
   "outputs": [],
   "source": []
  },
  {
   "cell_type": "code",
   "execution_count": null,
   "metadata": {},
   "outputs": [],
   "source": []
  }
 ],
 "metadata": {
  "kernelspec": {
   "display_name": "Python 3",
   "language": "python",
   "name": "python3"
  },
  "language_info": {
   "codemirror_mode": {
    "name": "ipython",
    "version": 3
   },
   "file_extension": ".py",
   "mimetype": "text/x-python",
   "name": "python",
   "nbconvert_exporter": "python",
   "pygments_lexer": "ipython3",
   "version": "3.7.0"
  }
 },
 "nbformat": 4,
 "nbformat_minor": 4
}

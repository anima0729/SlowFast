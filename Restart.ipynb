{
 "cells": [
  {
   "cell_type": "code",
   "execution_count": 63,
   "metadata": {},
   "outputs": [],
   "source": [
    "from glob import glob\n",
    "import cv2\n",
    "import pandas as pd\n",
    "import json\n",
    "import numpy as np\n",
    "import os\n",
    "from tqdm import tqdm"
   ]
  },
  {
   "cell_type": "markdown",
   "metadata": {},
   "source": [
    "# 빈 폴더 제거"
   ]
  },
  {
   "cell_type": "code",
   "execution_count": 81,
   "metadata": {},
   "outputs": [
    {
     "data": {
      "text/plain": [
       "0"
      ]
     },
     "execution_count": 81,
     "metadata": {},
     "output_type": "execute_result"
    }
   ],
   "source": [
    "paths = sorted(glob('/data/competition/Another/Busan/Competition_1/행위/행위/*/*'))\n",
    "\n",
    "folder_path = []\n",
    "\n",
    "for i in paths:\n",
    "    if (i[-4:] not in \"json\") and (i[-3:] not in \"mp4\"):\n",
    "        folder_path.append(i)\n",
    "\n",
    "for j in folder_path:\n",
    "    try:\n",
    "        os.rmdir(j)\n",
    "    except:\n",
    "        continue\n",
    "        \n",
    "paths = sorted(glob('/data/competition/Another/Busan/Competition_1/행위/행위/*/*'))\n",
    "\n",
    "folder_path = []\n",
    "\n",
    "for i in paths:\n",
    "    if (i[-4:] not in \"json\") and (i[-3:] not in \"mp4\"):\n",
    "        folder_path.append(i)\n",
    "        \n",
    "len(folder_path)"
   ]
  },
  {
   "cell_type": "markdown",
   "metadata": {},
   "source": [
    "# 전처리 파일 제거"
   ]
  },
  {
   "cell_type": "code",
   "execution_count": 80,
   "metadata": {},
   "outputs": [
    {
     "name": "stderr",
     "output_type": "stream",
     "text": [
      "100%|██████████| 432/432 [00:00<00:00, 25726.45it/s]"
     ]
    },
    {
     "name": "stdout",
     "output_type": "stream",
     "text": [
      "0\n"
     ]
    },
    {
     "name": "stderr",
     "output_type": "stream",
     "text": [
      "\n"
     ]
    }
   ],
   "source": [
    "paths = sorted(glob('/data/competition/Another/Busan/Competition_1/행위/행위/*/*/*'))\n",
    "\n",
    "for i in tqdm(paths):\n",
    "    os.remove(i)\n",
    "    \n",
    "paths = sorted(glob('/data/competition/Another/Busan/Competition_1/행위/행위/*/*/*'))\n",
    "print(len(paths))\n"
   ]
  },
  {
   "cell_type": "code",
   "execution_count": null,
   "metadata": {},
   "outputs": [],
   "source": []
  },
  {
   "cell_type": "code",
   "execution_count": null,
   "metadata": {},
   "outputs": [],
   "source": []
  }
 ],
 "metadata": {
  "kernelspec": {
   "display_name": "Python 3",
   "language": "python",
   "name": "python3"
  },
  "language_info": {
   "codemirror_mode": {
    "name": "ipython",
    "version": 3
   },
   "file_extension": ".py",
   "mimetype": "text/x-python",
   "name": "python",
   "nbconvert_exporter": "python",
   "pygments_lexer": "ipython3",
   "version": "3.7.0"
  }
 },
 "nbformat": 4,
 "nbformat_minor": 4
}
